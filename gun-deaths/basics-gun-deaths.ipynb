{
 "cells": [
  {
   "cell_type": "markdown",
   "metadata": {},
   "source": [
    "We will be using Python's csv module to read the contents of the csv file as a nested list"
   ]
  },
  {
   "cell_type": "code",
   "execution_count": 19,
   "metadata": {
    "collapsed": false
   },
   "outputs": [],
   "source": [
    "import csv"
   ]
  },
  {
   "cell_type": "code",
   "execution_count": 20,
   "metadata": {
    "collapsed": false
   },
   "outputs": [
    {
     "data": {
      "text/plain": [
       "[['',\n",
       "  'year',\n",
       "  'month',\n",
       "  'intent',\n",
       "  'police',\n",
       "  'sex',\n",
       "  'age',\n",
       "  'race',\n",
       "  'hispanic',\n",
       "  'place',\n",
       "  'education'],\n",
       " ['1',\n",
       "  '2012',\n",
       "  '01',\n",
       "  'Suicide',\n",
       "  '0',\n",
       "  'M',\n",
       "  '34',\n",
       "  'Asian/Pacific Islander',\n",
       "  '100',\n",
       "  'Home',\n",
       "  '4'],\n",
       " ['2', '2012', '01', 'Suicide', '0', 'F', '21', 'White', '100', 'Street', '3'],\n",
       " ['3',\n",
       "  '2012',\n",
       "  '01',\n",
       "  'Suicide',\n",
       "  '0',\n",
       "  'M',\n",
       "  '60',\n",
       "  'White',\n",
       "  '100',\n",
       "  'Other specified',\n",
       "  '4'],\n",
       " ['4', '2012', '02', 'Suicide', '0', 'M', '64', 'White', '100', 'Home', '4']]"
      ]
     },
     "execution_count": 20,
     "metadata": {},
     "output_type": "execute_result"
    }
   ],
   "source": [
    "file = open(\"guns.csv\", \"r\")\n",
    "csv_reader = csv.reader(file)\n",
    "gun_deaths = list(csv_reader)\n",
    "gun_deaths[:5] # Displaying the first 5 rows"
   ]
  },
  {
   "cell_type": "code",
   "execution_count": 21,
   "metadata": {
    "collapsed": true
   },
   "outputs": [],
   "source": [
    "# Removing first row from the nested list as that is the header and assigning it to header\n",
    "header = gun_deaths[0]\n",
    "\n",
    "# Dataset without the header\n",
    "gun_deaths = gun_deaths[1:]"
   ]
  },
  {
   "cell_type": "markdown",
   "metadata": {},
   "source": [
    "The year column contains information on the year in which the gun deaths occurred. We can use this column to calculate how many gun deaths happened each year. We can creat a dictionary to keep a count of how many times each element occurs in the year column"
   ]
  },
  {
   "cell_type": "code",
   "execution_count": 22,
   "metadata": {
    "collapsed": false
   },
   "outputs": [
    {
     "data": {
      "text/plain": [
       "{'2012': 33563, '2013': 33636, '2014': 33599}"
      ]
     },
     "execution_count": 22,
     "metadata": {},
     "output_type": "execute_result"
    }
   ],
   "source": [
    "# Extract the unique values from year column using list comprehension\n",
    "years = [row[1] for row in gun_deaths]\n",
    "\n",
    "# Creating an empty dictionary\n",
    "year_counts = {}\n",
    "\n",
    "for year in years:\n",
    "    if year in year_counts:\n",
    "        year_counts[year] += 1\n",
    "    else:\n",
    "        year_counts[year] = 1\n",
    "        \n",
    "year_counts"
   ]
  },
  {
   "cell_type": "markdown",
   "metadata": {},
   "source": [
    "                                        Exploring Gun Deaths by race, sex, intent"
   ]
  },
  {
   "cell_type": "code",
   "execution_count": 23,
   "metadata": {
    "collapsed": false
   },
   "outputs": [
    {
     "data": {
      "text/plain": [
       "{'F': 14449, 'M': 86349}"
      ]
     },
     "execution_count": 23,
     "metadata": {},
     "output_type": "execute_result"
    }
   ],
   "source": [
    "# Creating an empty dictionary to store the values for different gender\n",
    "gender_counts = {}\n",
    "\n",
    "for row in gun_deaths:\n",
    "    if row[5] in gender_counts:\n",
    "        gender_counts[row[5]] += 1\n",
    "    else:\n",
    "        gender_counts[row[5]] = 1\n",
    "        \n",
    "gender_counts"
   ]
  },
  {
   "cell_type": "code",
   "execution_count": 24,
   "metadata": {
    "collapsed": false
   },
   "outputs": [
    {
     "data": {
      "text/plain": [
       "{'Asian/Pacific Islander': 1326,\n",
       " 'Black': 23296,\n",
       " 'Hispanic': 9022,\n",
       " 'Native American/Native Alaskan': 917,\n",
       " 'White': 66237}"
      ]
     },
     "execution_count": 24,
     "metadata": {},
     "output_type": "execute_result"
    }
   ],
   "source": [
    "# Creating an empty dictionary to store the values of gun deaths on the basis of race\n",
    "race_counts = {}\n",
    "\n",
    "for row in gun_deaths:\n",
    "    if row[7] in race_counts:\n",
    "        race_counts[row[7]] += 1\n",
    "    else:\n",
    "        race_counts[row[7]] = 1\n",
    "        \n",
    "race_counts"
   ]
  },
  {
   "cell_type": "markdown",
   "metadata": {},
   "source": [
    "                We write a more generic function to calculate the number of unique values from any column"
   ]
  },
  {
   "cell_type": "code",
   "execution_count": 25,
   "metadata": {
    "collapsed": false
   },
   "outputs": [
    {
     "data": {
      "text/plain": [
       "{'Accidental': 1639,\n",
       " 'Homicide': 35176,\n",
       " 'NA': 1,\n",
       " 'Suicide': 63175,\n",
       " 'Undetermined': 807}"
      ]
     },
     "execution_count": 25,
     "metadata": {},
     "output_type": "execute_result"
    }
   ],
   "source": [
    "def unique_counts(input_list, row_number):\n",
    "    unique_value_counts = {}\n",
    "    for row in input_list:\n",
    "        if row[row_number] in unique_value_counts:\n",
    "            unique_value_counts[row[row_number]] += 1\n",
    "        else:\n",
    "            unique_value_counts[row[row_number]] = 1\n",
    "    return unique_value_counts\n",
    "\n",
    "intent_counts = unique_counts(gun_deaths, 3)\n",
    "intent_counts"
   ]
  },
  {
   "cell_type": "code",
   "execution_count": 27,
   "metadata": {
    "collapsed": false
   },
   "outputs": [
    {
     "data": {
      "text/plain": [
       "{'Farm': 470,\n",
       " 'Home': 60486,\n",
       " 'Industrial/construction': 248,\n",
       " 'NA': 1384,\n",
       " 'Other specified': 13751,\n",
       " 'Other unspecified': 8867,\n",
       " 'Residential institution': 203,\n",
       " 'School/instiution': 671,\n",
       " 'Sports': 128,\n",
       " 'Street': 11151,\n",
       " 'Trade/service area': 3439}"
      ]
     },
     "execution_count": 27,
     "metadata": {},
     "output_type": "execute_result"
    }
   ],
   "source": [
    "# Similarly we can find the unique values for data in the place column\n",
    "place_counts = unique_counts(gun_deaths, 9)\n",
    "place_counts"
   ]
  },
  {
   "cell_type": "markdown",
   "metadata": {},
   "source": [
    "Our analysis only gives us the total number of gun deaths by race in the US i.e percentage or number of gun deaths of a particular race as a factor of the total number of deaths of people belonging to all races.\n",
    "\n",
    "Unless we know the proportion of each race in the US, we wont be able to meaningfully compare these numbers. What we really would want to get is a rate of gun deaths per 100000 people of each race. In order to do this, we'll need to read in data about what percentage of the US population falls into each racial category.\n",
    "\n",
    "Lets read in data from the census.csv file"
   ]
  },
  {
   "cell_type": "code",
   "execution_count": 28,
   "metadata": {
    "collapsed": false
   },
   "outputs": [
    {
     "data": {
      "text/plain": [
       "[['Id',\n",
       "  'Year',\n",
       "  'Id',\n",
       "  'Sex',\n",
       "  'Id',\n",
       "  'Hispanic Origin',\n",
       "  'Id',\n",
       "  'Id2',\n",
       "  'Geography',\n",
       "  'Total',\n",
       "  'Race Alone - White',\n",
       "  'Race Alone - Hispanic',\n",
       "  'Race Alone - Black or African American',\n",
       "  'Race Alone - American Indian and Alaska Native',\n",
       "  'Race Alone - Asian',\n",
       "  'Race Alone - Native Hawaiian and Other Pacific Islander',\n",
       "  'Two or More Races'],\n",
       " ['cen42010',\n",
       "  'April 1, 2010 Census',\n",
       "  'totsex',\n",
       "  'Both Sexes',\n",
       "  'tothisp',\n",
       "  'Total',\n",
       "  '0100000US',\n",
       "  '',\n",
       "  'United States',\n",
       "  '308745538',\n",
       "  '197318956',\n",
       "  '44618105',\n",
       "  '40250635',\n",
       "  '3739506',\n",
       "  '15159516',\n",
       "  '674625',\n",
       "  '6984195']]"
      ]
     },
     "execution_count": 28,
     "metadata": {},
     "output_type": "execute_result"
    }
   ],
   "source": [
    "file = open(\"census.csv\", \"r\")\n",
    "csv_reader = csv.reader(file)\n",
    "census = list(csv_reader)\n",
    "census"
   ]
  },
  {
   "cell_type": "markdown",
   "metadata": {},
   "source": [
    "As we can see, the racial categories seem to different than the ones included in our gun_deaths dataset. Therefore, we manually create a dictionary that maps each value from our gun_deaths dataset to the population count from census dataset. We keep the key values similar to the racial categories that we have in the gun_deaths dataset"
   ]
  },
  {
   "cell_type": "code",
   "execution_count": 30,
   "metadata": {
    "collapsed": false
   },
   "outputs": [
    {
     "data": {
      "text/plain": [
       "{'Asian/Pacific Islander': 15834141,\n",
       " 'Black': 40250635,\n",
       " 'Hispanic': 44618105,\n",
       " 'Native American/Native Alaskan': 3739506,\n",
       " 'White': 197318956}"
      ]
     },
     "execution_count": 30,
     "metadata": {},
     "output_type": "execute_result"
    }
   ],
   "source": [
    "mapping = {\"Asian/Pacific Islander\":int(census[1][14])+int(census[1][15]), \"Black\":int(census[1][12]), \"Native American/Native Alaskan\":int(census[1][13]), \"Hispanic\":int(census[1][11]), \"White\":int(census[1][10])}\n",
    "mapping"
   ]
  },
  {
   "cell_type": "code",
   "execution_count": 31,
   "metadata": {
    "collapsed": false
   },
   "outputs": [
    {
     "data": {
      "text/plain": [
       "{'Asian/Pacific Islander': 8.374309664161762,\n",
       " 'Black': 57.877347773519595,\n",
       " 'Hispanic': 20.220491210910907,\n",
       " 'Native American/Native Alaskan': 24.521955573811088,\n",
       " 'White': 33.56849303419181}"
      ]
     },
     "execution_count": 31,
     "metadata": {},
     "output_type": "execute_result"
    }
   ],
   "source": [
    "# To calculate the rate of deaths per 100000 people of each race basedon the total population of each race, we begin with creating an empty dictionary and looping through the race_counts dictionary\n",
    "race_per_hundredk = {}\n",
    "\n",
    "for key, value in race_counts.items():\n",
    "    race_per_hundredk[key] = (race_counts[key] * 100000) / mapping[key]\n",
    "\n",
    "race_per_hundredk"
   ]
  },
  {
   "cell_type": "markdown",
   "metadata": {},
   "source": [
    "We can further explore the dataset and combine values from multiple columns as conditioning parameter such as:\n",
    "1. The number of gun deaths based on race column, the intent of which was homicide\n",
    "2. The number of gun deaths based on age parameter\n",
    "3. If there is any link between homicide rate and month\n",
    "4. Exploring homicide rate by gender\n",
    "5. Exploring rates of other intents such as Accidental, by gender and race\n",
    "6. If gun death rates correlate to education and location"
   ]
  },
  {
   "cell_type": "code",
   "execution_count": null,
   "metadata": {
    "collapsed": true
   },
   "outputs": [],
   "source": []
  }
 ],
 "metadata": {
  "kernelspec": {
   "display_name": "Python 3",
   "language": "python",
   "name": "python3"
  },
  "language_info": {
   "codemirror_mode": {
    "name": "ipython",
    "version": 3
   },
   "file_extension": ".py",
   "mimetype": "text/x-python",
   "name": "python",
   "nbconvert_exporter": "python",
   "pygments_lexer": "ipython3",
   "version": "3.4.3"
  }
 },
 "nbformat": 4,
 "nbformat_minor": 2
}
